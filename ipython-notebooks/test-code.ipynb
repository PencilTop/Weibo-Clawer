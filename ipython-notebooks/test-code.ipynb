{
 "cells": [
  {
   "cell_type": "code",
   "execution_count": 1,
   "metadata": {},
   "outputs": [],
   "source": [
    "from urllib import request"
   ]
  },
  {
   "cell_type": "code",
   "execution_count": 2,
   "metadata": {},
   "outputs": [
    {
     "name": "stdout",
     "output_type": "stream",
     "text": [
      "Help on class Request in module urllib.request:\n",
      "\n",
      "class Request(builtins.object)\n",
      " |  Methods defined here:\n",
      " |  \n",
      " |  __init__(self, url, data=None, headers={}, origin_req_host=None, unverifiable=False, method=None)\n",
      " |      Initialize self.  See help(type(self)) for accurate signature.\n",
      " |  \n",
      " |  add_header(self, key, val)\n",
      " |  \n",
      " |  add_unredirected_header(self, key, val)\n",
      " |  \n",
      " |  get_full_url(self)\n",
      " |  \n",
      " |  get_header(self, header_name, default=None)\n",
      " |  \n",
      " |  get_method(self)\n",
      " |      Return a string indicating the HTTP request method.\n",
      " |  \n",
      " |  has_header(self, header_name)\n",
      " |  \n",
      " |  has_proxy(self)\n",
      " |  \n",
      " |  header_items(self)\n",
      " |  \n",
      " |  remove_header(self, header_name)\n",
      " |  \n",
      " |  set_proxy(self, host, type)\n",
      " |  \n",
      " |  ----------------------------------------------------------------------\n",
      " |  Data descriptors defined here:\n",
      " |  \n",
      " |  __dict__\n",
      " |      dictionary for instance variables (if defined)\n",
      " |  \n",
      " |  __weakref__\n",
      " |      list of weak references to the object (if defined)\n",
      " |  \n",
      " |  data\n",
      " |  \n",
      " |  full_url\n",
      "\n"
     ]
    }
   ],
   "source": [
    "help(request.Request)"
   ]
  },
  {
   "cell_type": "code",
   "execution_count": 3,
   "metadata": {},
   "outputs": [],
   "source": [
    "url = 'https://github.com'\n",
    "req = request.Request(url)"
   ]
  },
  {
   "cell_type": "code",
   "execution_count": 4,
   "metadata": {},
   "outputs": [
    {
     "name": "stdout",
     "output_type": "stream",
     "text": [
      "Help on method add_header in module urllib.request:\n",
      "\n",
      "add_header(key, val) method of urllib.request.Request instance\n",
      "\n"
     ]
    }
   ],
   "source": [
    "help(req.add_header)"
   ]
  },
  {
   "cell_type": "code",
   "execution_count": 21,
   "metadata": {},
   "outputs": [],
   "source": [
    "header = (\"User-Agent\", r\"Mozilla/5.0 (Windows NT 6.1; WOW64) AppleWebKit/537.36 (KHTML, like Gecko) Chrome/49.0.2623.221 Safari/537.36 SE 2.X MetaSr 1.0\")"
   ]
  },
  {
   "cell_type": "code",
   "execution_count": 22,
   "metadata": {},
   "outputs": [],
   "source": [
    "req.add_header(*header)"
   ]
  },
  {
   "cell_type": "code",
   "execution_count": 24,
   "metadata": {},
   "outputs": [],
   "source": [
    "proxy_addr = '122.241.72.191:808'"
   ]
  },
  {
   "cell_type": "code",
   "execution_count": 25,
   "metadata": {},
   "outputs": [
    {
     "name": "stdout",
     "output_type": "stream",
     "text": [
      "Help on class ProxyHandler in module urllib.request:\n",
      "\n",
      "class ProxyHandler(BaseHandler)\n",
      " |  Method resolution order:\n",
      " |      ProxyHandler\n",
      " |      BaseHandler\n",
      " |      builtins.object\n",
      " |  \n",
      " |  Methods defined here:\n",
      " |  \n",
      " |  __init__(self, proxies=None)\n",
      " |      Initialize self.  See help(type(self)) for accurate signature.\n",
      " |  \n",
      " |  proxy_open(self, req, proxy, type)\n",
      " |  \n",
      " |  ----------------------------------------------------------------------\n",
      " |  Data and other attributes defined here:\n",
      " |  \n",
      " |  handler_order = 100\n",
      " |  \n",
      " |  ----------------------------------------------------------------------\n",
      " |  Methods inherited from BaseHandler:\n",
      " |  \n",
      " |  __lt__(self, other)\n",
      " |      Return self<value.\n",
      " |  \n",
      " |  add_parent(self, parent)\n",
      " |  \n",
      " |  close(self)\n",
      " |  \n",
      " |  ----------------------------------------------------------------------\n",
      " |  Data descriptors inherited from BaseHandler:\n",
      " |  \n",
      " |  __dict__\n",
      " |      dictionary for instance variables (if defined)\n",
      " |  \n",
      " |  __weakref__\n",
      " |      list of weak references to the object (if defined)\n",
      "\n"
     ]
    }
   ],
   "source": [
    "help(request.ProxyHandler)"
   ]
  },
  {
   "cell_type": "code",
   "execution_count": null,
   "metadata": {},
   "outputs": [],
   "source": [
    "proxies = {'http' : proxy_addr}\n",
    "proxy = request.ProxyHandler(proxies)"
   ]
  }
 ],
 "metadata": {
  "kernelspec": {
   "display_name": "Python 3",
   "language": "python",
   "name": "python3"
  },
  "language_info": {
   "codemirror_mode": {
    "name": "ipython",
    "version": 3
   },
   "file_extension": ".py",
   "mimetype": "text/x-python",
   "name": "python",
   "nbconvert_exporter": "python",
   "pygments_lexer": "ipython3",
   "version": "3.6.1"
  }
 },
 "nbformat": 4,
 "nbformat_minor": 2
}
