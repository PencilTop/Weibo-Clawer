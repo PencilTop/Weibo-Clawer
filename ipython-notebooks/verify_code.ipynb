{
 "cells": [
  {
   "cell_type": "code",
   "execution_count": 1,
   "metadata": {},
   "outputs": [],
   "source": [
    "import os, sys\n",
    "from urllib import request\n",
    "import json\n",
    "import datetime, time"
   ]
  },
  {
   "cell_type": "code",
   "execution_count": 2,
   "metadata": {},
   "outputs": [],
   "source": [
    "DAYS = 30\n",
    "RETRYTIMES = 10\n",
    "PAUSESECONDS = 60\n",
    "header = (\"User-Agent\", \n",
    "               r\"Mozilla/5.0 (Windows NT 6.1; WOW64) AppleWebKit/537.36 (KHTML, like Gecko) Chrome/49.0.2623.221 Safari/537.36 SE 2.X MetaSr 1.0\")\n",
    "proxy_addr = \"122.241.72.191:808\"\n",
    "url_front = 'https://m.weibo.cn/api/container/getIndex?type=uid&value='"
   ]
  },
  {
   "cell_type": "code",
   "execution_count": 3,
   "metadata": {},
   "outputs": [],
   "source": [
    "def use_proxy(url):\n",
    "    req = request.Request(url)\n",
    "    req.add_header(*header)\n",
    "    proxy = request.ProxyHandler({'http' : proxy_addr})\n",
    "    opener = request.build_opener(proxy, request.HTTPHandler)\n",
    "    request.install_opener(opener)\n",
    "    try:\n",
    "        return request.urlopen(req).read().decode('utf-8', 'ignore')\n",
    "    except Exception as e:\n",
    "        print('url: ',url, '\\t请求失败' )\n",
    "        return"
   ]
  },
  {
   "cell_type": "code",
   "execution_count": 28,
   "metadata": {},
   "outputs": [],
   "source": [
    "p = 3\n",
    "id = '3044123772'\n",
    "containerid = '1076033044123772'\n",
    "weibo_url = url_front + id + '&containerid=' + containerid + '&page=' + str(p)"
   ]
  },
  {
   "cell_type": "code",
   "execution_count": 29,
   "metadata": {},
   "outputs": [
    {
     "data": {
      "text/plain": [
       "'https://m.weibo.cn/api/container/getIndex?type=uid&value=3044123772&containerid=1076033044123772&page=3'"
      ]
     },
     "execution_count": 29,
     "metadata": {},
     "output_type": "execute_result"
    }
   ],
   "source": [
    "weibo_url"
   ]
  },
  {
   "cell_type": "code",
   "execution_count": 30,
   "metadata": {},
   "outputs": [],
   "source": [
    "data = use_proxy(weibo_url)"
   ]
  },
  {
   "cell_type": "code",
   "execution_count": 31,
   "metadata": {},
   "outputs": [],
   "source": [
    "content = json.loads(data).get('data')\n",
    "cards = content.get('cards')\n",
    "cardsnum = len(cards)"
   ]
  },
  {
   "cell_type": "code",
   "execution_count": 32,
   "metadata": {},
   "outputs": [
    {
     "data": {
      "text/plain": [
       "9"
      ]
     },
     "execution_count": 32,
     "metadata": {},
     "output_type": "execute_result"
    }
   ],
   "source": [
    "cardsnum"
   ]
  },
  {
   "cell_type": "code",
   "execution_count": null,
   "metadata": {},
   "outputs": [],
   "source": []
  }
 ],
 "metadata": {
  "kernelspec": {
   "display_name": "Python 3",
   "language": "python",
   "name": "python3"
  },
  "language_info": {
   "codemirror_mode": {
    "name": "ipython",
    "version": 3
   },
   "file_extension": ".py",
   "mimetype": "text/x-python",
   "name": "python",
   "nbconvert_exporter": "python",
   "pygments_lexer": "ipython3",
   "version": "3.6.1"
  }
 },
 "nbformat": 4,
 "nbformat_minor": 2
}
